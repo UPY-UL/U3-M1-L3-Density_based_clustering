{
 "cells": [
  {
   "cell_type": "markdown",
   "metadata": {},
   "source": [
    "Before you turn this problem in, make sure everything runs as expected. First, **restart the kernel** (in the menubar, select Kernel$\\rightarrow$Restart) and then **run all cells** (in the menubar, select Cell$\\rightarrow$Run All).\n",
    "\n",
    "**IMPORTANT: DO NOT COPY OR SPLIT CELLS.** If you do, you'll mess the autograder. If need more cells to work or test things out, create a new cell. You may add as many new cells as you need.\n",
    "\n",
    "Make sure you fill in any place that says `YOUR CODE HERE` or \"YOUR ANSWER HERE\", as well as your name and group below:"
   ]
  },
  {
   "cell_type": "code",
   "execution_count": null,
   "metadata": {},
   "outputs": [],
   "source": [
    "COURSE = \"Unsupervised Learning 2021\"\n",
    "GROUP = \"D8A\"\n",
    "NAME = \"\" # Match your GitHub Classroom ID"
   ]
  },
  {
   "cell_type": "markdown",
   "metadata": {},
   "source": [
    "---"
   ]
  },
  {
   "cell_type": "code",
   "execution_count": null,
   "metadata": {},
   "outputs": [],
   "source": [
    "import numpy as np\n",
    "import matplotlib.pyplot as plt"
   ]
  },
  {
   "cell_type": "markdown",
   "metadata": {},
   "source": [
    "# Density based clustering"
   ]
  },
  {
   "cell_type": "markdown",
   "metadata": {},
   "source": [
    "In this assignment we will implement the DBSCAN algortuhm and compare it with the official Python implementation on HDBSCAN. We'll test our algorithms with the synthetic data from the HDBSCAN python implementation. This data set has 6 natural non-isotropic clusters of different densities, plus noise."
   ]
  },
  {
   "cell_type": "code",
   "execution_count": null,
   "metadata": {},
   "outputs": [],
   "source": [
    "X = np.load('clusterable_data.npy')\n",
    "figure = plt.figure(figsize=(8,8))\n",
    "plt.scatter(X[:,0], X[:,1]);"
   ]
  },
  {
   "cell_type": "markdown",
   "metadata": {},
   "source": [
    "## DBSCAN, neighborhood function (4 points) "
   ]
  },
  {
   "cell_type": "code",
   "execution_count": null,
   "metadata": {
    "deletable": false,
    "nbgrader": {
     "cell_type": "code",
     "checksum": "78630c8861d54915a6d406a5b6dea998",
     "grade": false,
     "grade_id": "ex1",
     "locked": false,
     "schema_version": 3,
     "solution": true,
     "task": false
    }
   },
   "outputs": [],
   "source": [
    "# To find wether a point is a core point or not, we need to find its neighborhood.\n",
    "# Implement such function below.\n",
    "def eps_neighborhood(i, X, e):\n",
    "    \"\"\" Returns indices of all points whose distance to X[i] is less than e.\"\"\"\n",
    "    \n",
    "    # YOUR CODE HERE\n",
    "    raise NotImplementedError()\n",
    "    \n",
    "    return n_list[0]"
   ]
  },
  {
   "cell_type": "markdown",
   "metadata": {},
   "source": [
    "Compare the results with the plots in the lecture notes."
   ]
  },
  {
   "cell_type": "code",
   "execution_count": null,
   "metadata": {
    "deletable": false,
    "editable": false,
    "nbgrader": {
     "cell_type": "code",
     "checksum": "b1145b4410a27c47fbb90f8be689aa53",
     "grade": true,
     "grade_id": "ex1-test",
     "locked": true,
     "points": 4,
     "schema_version": 3,
     "solution": false,
     "task": false
    }
   },
   "outputs": [],
   "source": [
    "x_idx = 100\n",
    "e=0.05\n",
    "nn = eps_neighborhood(x_idx, X, e)\n",
    "figure = plt.figure(figsize=(8,8))\n",
    "plt.scatter(X[:,0], X[:,1])\n",
    "plt.scatter(X[nn][:,0], X[nn][:,1], c='r')\n",
    "plt.scatter(X[x_idx][0], X[x_idx][1], c='k')\n",
    "circle = plt.Circle((X[x_idx][0], X[x_idx][1]),radius=e, fill=False)\n",
    "ax=plt.gca()\n",
    "ax.add_patch(circle)"
   ]
  },
  {
   "cell_type": "markdown",
   "metadata": {},
   "source": [
    "## DBSCAN, grow cluster function (4 points) "
   ]
  },
  {
   "cell_type": "code",
   "execution_count": null,
   "metadata": {
    "deletable": false,
    "nbgrader": {
     "cell_type": "code",
     "checksum": "08c62329c3df680c09ff7305a76eb97f",
     "grade": false,
     "grade_id": "ex2",
     "locked": false,
     "schema_version": 3,
     "solution": true,
     "task": false
    }
   },
   "outputs": [],
   "source": [
    "# We now need a function to grow a cluster.\n",
    "# Implement a function that starts at a core point and finds all density reachable points from it, \n",
    "# and adds them to the cluster.\n",
    "def grow_cluster(i, X, e, q, labels, m):\n",
    "    \"\"\" Starts at core point X[i] and finds all density connected points to it.\n",
    "        INPUTS:\n",
    "            i: index of seed point\n",
    "            X: data matrix\n",
    "            e: neighbor radius\n",
    "            q: min points in neighborhood to be considered core point\n",
    "            labels: list of cluster labels\n",
    "            m: current cluster label\n",
    "        OUTPUTS:\n",
    "            number of points in new cluster\n",
    "            \n",
    "        To implement this function try to build up a FIFO queu. Start your queue \n",
    "        with the intial neighbors, then test each neighbor to know wether is a core point or not.\n",
    "        If the neighbor is a core point add its neighbors to the queue, else do nothing as it is a boundary point.\n",
    "        \n",
    "        The queu will grow with each new core point's neighbors, until all density connected points are tested.\n",
    "    \"\"\"\n",
    "    \n",
    "    # Append i to cluster\n",
    "    labels[i] = m\n",
    "    \n",
    "    # Create a FIFO list to queu potential new core points to test.\n",
    "    queu = list(eps_neighborhood(i, X, e))\n",
    "        \n",
    "    # For each point in queu, search its neighborhood, and new core points to queu.\n",
    "    j = 0\n",
    "    while j < len(queu):\n",
    "        # YOUR CODE HERE\n",
    "        raise NotImplementedError()\n",
    "        j += 1\n",
    "    \n",
    "    # return size of cluster, just to return a value\n",
    "    return len(queu)"
   ]
  },
  {
   "cell_type": "markdown",
   "metadata": {},
   "source": [
    "Again, compare the results with the plots on the lecture notes."
   ]
  },
  {
   "cell_type": "code",
   "execution_count": null,
   "metadata": {
    "deletable": false,
    "editable": false,
    "nbgrader": {
     "cell_type": "code",
     "checksum": "39af3ba0901b46819ea91a2db68cd823",
     "grade": true,
     "grade_id": "ex2-test",
     "locked": true,
     "points": 4,
     "schema_version": 3,
     "solution": false,
     "task": false
    }
   },
   "outputs": [],
   "source": [
    "labels = np.zeros(len(X))\n",
    "size = grow_cluster(100, X, 0.02, 5, labels, 1)\n",
    "plt.scatter(X[:,0], X[:,1], c=labels)\n",
    "print(f'Cluster size obtained: {size}, should be {8993}')"
   ]
  },
  {
   "cell_type": "markdown",
   "metadata": {},
   "source": [
    "## Combining both function into the DBSCAN algorithm\n",
    "\n",
    "We reproduce the same function provided in the notes for convinience. Refer to the notes for a discussion of the algorithm."
   ]
  },
  {
   "cell_type": "code",
   "execution_count": null,
   "metadata": {},
   "outputs": [],
   "source": [
    "def dbscan(X, e, q):\n",
    "    \"\"\" The DBSCAN algorithm. Unoptimized implementation with pedagogical purposes.\n",
    "        \n",
    "        INPUTS:\n",
    "                -X: data matrix\n",
    "                -e: epsilon, the neighbor radius arround each point\n",
    "                -q: The minimum number of points for a cluster to be dense\n",
    "    \"\"\"\n",
    "    \n",
    "    n, d = X.shape\n",
    "    # Array to hold cluster assignments: 0 is not considered, -1 is noise\n",
    "    # You need to return this array correctly\n",
    "    labels = np.zeros(n)\n",
    "    \n",
    "    # Current cluster label\n",
    "    m = 0\n",
    "    \n",
    "    # Instead of using sets, well just iterate over every point in order.\n",
    "    # If you want to choose at random, you can shuffle X before starting.\n",
    "    # I don't beleive it makes a difference\n",
    "    for i, x in enumerate(X):\n",
    "        if labels[i] != 0:\n",
    "            # Point already in another cluster\n",
    "            continue\n",
    "        nbrs = eps_neighborhood(i, X, e)\n",
    "        if len(nbrs) < q:\n",
    "            # Is a noise point (so far, can be claimed later.)\n",
    "            labels[i] = -1\n",
    "            continue\n",
    "        # else, x is a core point\n",
    "        m += 1\n",
    "        m_size = grow_cluster(i, X, e, q, labels, m)\n",
    "        \n",
    "    return labels"
   ]
  },
  {
   "cell_type": "markdown",
   "metadata": {},
   "source": [
    "Compare results with lecture notes."
   ]
  },
  {
   "cell_type": "code",
   "execution_count": null,
   "metadata": {},
   "outputs": [],
   "source": [
    "# Now test different values of e and q.\n",
    "# A good choice seems to be e = 0.025 and q = 4.\n",
    "labels = dbscan(X, 0.025, 4)\n",
    "figure = plt.figure(figsize=(8,8))\n",
    "plt.scatter(X[:,0], X[:,1], c=labels);"
   ]
  },
  {
   "cell_type": "markdown",
   "metadata": {},
   "source": [
    "## HDBSCAN (2 points)"
   ]
  },
  {
   "cell_type": "markdown",
   "metadata": {
    "deletable": false,
    "editable": false,
    "nbgrader": {
     "cell_type": "markdown",
     "checksum": "0eb5f4485a465975b548b3fd518476bc",
     "grade": false,
     "grade_id": "ex3",
     "locked": true,
     "points": 2,
     "schema_version": 3,
     "solution": false,
     "task": true
    }
   },
   "source": [
    "Watch video, read documentation. Then try HDBSCAN with the same sample dataset. Compare."
   ]
  },
  {
   "cell_type": "code",
   "execution_count": null,
   "metadata": {
    "deletable": false,
    "nbgrader": {
     "cell_type": "code",
     "checksum": "d7fcd875179db624ef36933065cd0aac",
     "grade": false,
     "grade_id": "ex3-code",
     "locked": false,
     "schema_version": 3,
     "solution": true,
     "task": false
    }
   },
   "outputs": [],
   "source": [
    "# Write your code here, add cells if needed.\n",
    "import hdbscan\n",
    "\n",
    "# YOUR CODE HERE\n",
    "raise NotImplementedError()"
   ]
  }
 ],
 "metadata": {
  "kernelspec": {
   "display_name": "Python 3",
   "language": "python",
   "name": "python3"
  },
  "language_info": {
   "codemirror_mode": {
    "name": "ipython",
    "version": 3
   },
   "file_extension": ".py",
   "mimetype": "text/x-python",
   "name": "python",
   "nbconvert_exporter": "python",
   "pygments_lexer": "ipython3",
   "version": "3.8.8"
  }
 },
 "nbformat": 4,
 "nbformat_minor": 4
}
